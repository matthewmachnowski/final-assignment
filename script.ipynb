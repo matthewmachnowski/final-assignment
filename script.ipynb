{
 "cells": [
  {
   "cell_type": "code",
   "execution_count": 1,
   "id": "19ec549e",
   "metadata": {},
   "outputs": [
    {
     "name": "stdout",
     "output_type": "stream",
     "text": [
      "Obtaining file:///Users/mateusz/Desktop/final-assignment/package_calculate_income\n",
      "  Preparing metadata (setup.py) ... \u001B[?25ldone\n",
      "\u001B[?25hInstalling collected packages: package-calculate-income\n",
      "  Attempting uninstall: package-calculate-income\n",
      "    Found existing installation: package-calculate-income 0.0.1\n",
      "    Uninstalling package-calculate-income-0.0.1:\n",
      "      Successfully uninstalled package-calculate-income-0.0.1\n",
      "  Running setup.py develop for package-calculate-income\n",
      "Successfully installed package-calculate-income-0.0.1\n",
      "Note: you may need to restart the kernel to use updated packages.\n"
     ]
    }
   ],
   "source": [
    "%pip install -e package_calculate_income"
   ]
  },
  {
   "cell_type": "code",
   "execution_count": 2,
   "id": "e5f04b26",
   "metadata": {},
   "outputs": [],
   "source": [
    "import configparser\n",
    "import os\n",
    "import pandas as pd\n",
    "import numpy as np\n",
    "import package_calculate_income.calculate_income_jst.jst_income_calc as jst_calc\n",
    "import package_calculate_income.calculate_income_stat.mean_income_calc as mean_calc\n",
    "import package_calculate_income.calculate_income_stat.variance_income_calc as var_calc"
   ]
  },
  {
   "cell_type": "code",
   "execution_count": 3,
   "id": "cb644e92",
   "metadata": {},
   "outputs": [
    {
     "data": {
      "text/plain": [
       "['config.ini']"
      ]
     },
     "execution_count": 3,
     "metadata": {},
     "output_type": "execute_result"
    }
   ],
   "source": [
    "dir_name = os.path.dirname(\"script.ipynb\")\n",
    "config = configparser.ConfigParser()\n",
    "config.read(os.path.join(dir_name, \"config.ini\"))"
   ]
  },
  {
   "cell_type": "markdown",
   "id": "0b3d3e75",
   "metadata": {},
   "source": [
    "### Opodatkowany dochód dla jednostek samorządów terytorialnych z roku 2020 oraz 2019."
   ]
  },
  {
   "cell_type": "code",
   "execution_count": 4,
   "id": "882d4519",
   "metadata": {
    "scrolled": true
   },
   "outputs": [],
   "source": [
    "df_gm = jst_calc.income_comparison(config[\"data\"][\"y1_f1\"], config[\"data\"][\"y2_f1\"])\n",
    "df_pow = jst_calc.income_comparison(config[\"data\"][\"y1_f2\"], config[\"data\"][\"y2_f2\"])\n",
    "df_mnpp = jst_calc.income_comparison(config[\"data\"][\"y1_f3\"], config[\"data\"][\"y2_f3\"])\n",
    "df_pow_mnpp = pd.concat([df_pow, df_mnpp])\n",
    "df_metrop = jst_calc.income_comparison(config[\"data\"][\"y1_f4\"], config[\"data\"][\"y2_f4\"])\n",
    "df_woj = jst_calc.income_comparison(config[\"data\"][\"y1_f5\"], config[\"data\"][\"y2_f5\"])"
   ]
  },
  {
   "cell_type": "code",
   "execution_count": null,
   "id": "4a13a221",
   "metadata": {},
   "outputs": [],
   "source": [
    "%%time\n",
    "df_gm"
   ]
  },
  {
   "cell_type": "code",
   "execution_count": null,
   "id": "6151e755",
   "metadata": {},
   "outputs": [],
   "source": [
    "%%time\n",
    "df_pow_mnpp"
   ]
  },
  {
   "cell_type": "code",
   "execution_count": null,
   "id": "4cbd9b06",
   "metadata": {},
   "outputs": [],
   "source": [
    "%%time\n",
    "df_metrop"
   ]
  },
  {
   "cell_type": "code",
   "execution_count": null,
   "id": "28fe205a",
   "metadata": {},
   "outputs": [],
   "source": [
    "%%time\n",
    "df_woj"
   ]
  },
  {
   "cell_type": "markdown",
   "id": "145946bf",
   "metadata": {},
   "source": [
    "### Średni dochód opodatkowany dla poszczególnych jednostek samorządu terytorialnego."
   ]
  },
  {
   "cell_type": "code",
   "execution_count": null,
   "id": "d22069a3",
   "metadata": {
    "scrolled": true
   },
   "outputs": [],
   "source": [
    "df_gm_mean = mean_calc.mean_inc_gm(df_gm, config[\"data\"][\"gm_lud\"])\n",
    "df_gm_mean"
   ]
  },
  {
   "cell_type": "code",
   "execution_count": null,
   "id": "7dd2d665",
   "metadata": {
    "scrolled": true
   },
   "outputs": [],
   "source": [
    "df_pow_mnpp_mean = mean_calc.mean_inc_pow(df_pow, config[\"data\"][\"pow_lud\"])\n",
    "df_pow_mnpp_mean"
   ]
  },
  {
   "cell_type": "code",
   "execution_count": null,
   "id": "3ddb8a73",
   "metadata": {},
   "outputs": [],
   "source": [
    "df_woj_mean = mean_calc.mean_inc_woj(df_woj, config[\"data\"][\"woj_lud\"])\n",
    "df_woj_mean"
   ]
  },
  {
   "cell_type": "code",
   "execution_count": null,
   "id": "4dd5f07d",
   "metadata": {},
   "outputs": [],
   "source": [
    "df_gm_var = var_calc.income_variance_gm(df_gm_mean, df_pow_mnpp_mean)\n",
    "df_gm_var"
   ]
  },
  {
   "cell_type": "code",
   "execution_count": null,
   "id": "b7328d05",
   "metadata": {},
   "outputs": [],
   "source": []
  }
 ],
 "metadata": {
  "kernelspec": {
   "display_name": "Python 3 (ipykernel)",
   "language": "python",
   "name": "python3"
  },
  "language_info": {
   "codemirror_mode": {
    "name": "ipython",
    "version": 3
   },
   "file_extension": ".py",
   "mimetype": "text/x-python",
   "name": "python",
   "nbconvert_exporter": "python",
   "pygments_lexer": "ipython3",
   "version": "3.10.0"
  }
 },
 "nbformat": 4,
 "nbformat_minor": 5
}