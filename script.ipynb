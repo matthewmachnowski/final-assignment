{
 "cells": [
  {
   "cell_type": "markdown",
   "id": "52179f41",
   "metadata": {},
   "source": [
    "# Final project - script\n",
    "\n",
    "W ramach zadania zaliczeniowego przygotowałem bibliotekę do przetwarzania danych o dochodach PIT w jednostkach terytorialnych Polski."
   ]
  },
  {
   "cell_type": "code",
   "execution_count": null,
   "id": "19ec549e",
   "metadata": {},
   "outputs": [],
   "source": [
    "%pip install -e calculate_income --quiet"
   ]
  },
  {
   "cell_type": "code",
   "execution_count": null,
   "id": "e5f04b26",
   "metadata": {},
   "outputs": [],
   "source": [
    "import configparser\n",
    "import os\n",
    "import pandas as pd\n",
    "import numpy as np\n",
    "from IPython.display import display\n",
    "import calculate_income as cal_income\n",
    "import warnings\n",
    "warnings.filterwarnings('ignore')\n",
    "%load_ext line_profiler"
   ]
  },
  {
   "cell_type": "code",
   "execution_count": null,
   "id": "cb644e92",
   "metadata": {},
   "outputs": [],
   "source": [
    "dir_name = os.path.dirname(\"script.ipynb\")\n",
    "config = configparser.ConfigParser()\n",
    "config.read(os.path.join(dir_name, \"config.ini\"))"
   ]
  },
  {
   "cell_type": "markdown",
   "id": "2b39c3d5",
   "metadata": {},
   "source": [
    "W celu określenia rozdziału klasyfikacji finansowej odpowiedzialnego za PIT użyłem przepisów na rok 2021 pokrywające się w tym zakresie z poprzednimi klasyfikacjami.\n",
    "\n",
    "Paragraf i rozdział określają rodzaj dochodu ze względu na źródło pochodzenia i rodzaj dochodu:\n",
    "\n",
    "0010 Wpływy z podatku dochodowego od osób fizycznych\\\n",
    "75621 Udziały gmin w podatkach stanowiących dochód budżetu państw\\\n",
    "75622 Udziały powiatów w podatkach stanowiących dochód budżetu państwa\\\n",
    "75623 Udziały województw w podatkach stanowiących dochód budżetu państwa\\\n",
    "75634 Udziały związków metropolitalnych w podatku dochodowym od osób fizycznych\\\n",
    "\n",
    "WK kod województwa\\\n",
    "PK kod powiatu\\\n",
    "GK kod gminy\\\n",
    "GT kod typu gminy (1 miejska, 2 wiejska, 3 miejsko-wiejska)"
   ]
  },
  {
   "cell_type": "markdown",
   "id": "0b3d3e75",
   "metadata": {},
   "source": [
    "### Opodatkowany dochód dla jednostek samorządów terytorialnych z roku 2020 oraz 2019."
   ]
  },
  {
   "cell_type": "code",
   "execution_count": null,
   "id": "882d4519",
   "metadata": {
    "scrolled": true
   },
   "outputs": [],
   "source": [
    "df_gm = cal_income.income_comparison(config[\"data\"][\"y1_f1\"], config[\"data\"][\"y2_f1\"])\n",
    "df_pow = cal_income.income_comparison(config[\"data\"][\"y1_f2\"], config[\"data\"][\"y2_f2\"])\n",
    "df_mnpp = cal_income.income_comparison(config[\"data\"][\"y1_f3\"], config[\"data\"][\"y2_f3\"])\n",
    "df_pow_mnpp = pd.concat([df_pow, df_mnpp])\n",
    "df_metrop = cal_income.income_comparison(config[\"data\"][\"y1_f4\"], config[\"data\"][\"y2_f4\"])\n",
    "df_woj = cal_income.income_comparison(config[\"data\"][\"y1_f5\"], config[\"data\"][\"y2_f5\"])"
   ]
  },
  {
   "cell_type": "code",
   "execution_count": null,
   "id": "4a13a221",
   "metadata": {},
   "outputs": [],
   "source": [
    "%%time\n",
    "display(df_gm.head())\n",
    "display(df_pow_mnpp.head())\n",
    "display(df_metrop)\n",
    "display(df_woj.head())"
   ]
  },
  {
   "cell_type": "markdown",
   "id": "f0802d53",
   "metadata": {},
   "source": [
    "Zgodnie z wynikami dochody w jednostkach terytorialnych nieznacznie obniżyły się względem poprzedniego roku."
   ]
  },
  {
   "cell_type": "markdown",
   "id": "145946bf",
   "metadata": {},
   "source": [
    "### Średni dochód opodatkowany dla poszczególnych jednostek samorządu terytorialnego.\n",
    "\n",
    "Następnie połączyłem te dane z danymi o ludności w poszczególnych Jednostkach Samorządu Terytorialnego i policzyłem średni dochód opodatkowany dla tych jednostek. Wykonanie tych poleceń zajmuje 254 ms, 48.4 ms, 36.8 ms. Różnica wyniku dla gmin związana jest z większą obróbką danych."
   ]
  },
  {
   "cell_type": "code",
   "execution_count": null,
   "id": "d22069a3",
   "metadata": {},
   "outputs": [],
   "source": [
    "%%time\n",
    "df_gm_mean = cal_income.mean_inc_gm(df_gm, config[\"data\"][\"gm_lud\"])\n",
    "display(df_gm_mean.head())"
   ]
  },
  {
   "cell_type": "code",
   "execution_count": null,
   "id": "7dd2d665",
   "metadata": {
    "scrolled": true
   },
   "outputs": [],
   "source": [
    "%%time\n",
    "df_pow_mnpp_mean = cal_income.mean_inc_pow(df_pow, config[\"data\"][\"pow_lud\"])\n",
    "display(df_pow_mnpp_mean.head())"
   ]
  },
  {
   "cell_type": "code",
   "execution_count": null,
   "id": "3ddb8a73",
   "metadata": {},
   "outputs": [],
   "source": [
    "%%time\n",
    "df_woj_mean = cal_income.mean_inc_woj(df_woj, config[\"data\"][\"woj_lud\"])\n",
    "display(df_woj_mean.head())"
   ]
  },
  {
   "cell_type": "markdown",
   "id": "0e251cf8",
   "metadata": {},
   "source": [
    "Dla Powiatów i Województw policzyłem wariancję dochodu w podległych jednostkach samorządu terytorialnego i porównałem przewidziany dochód dla tej jednostki ze średnią ważoną jednostek podległych."
   ]
  },
  {
   "cell_type": "code",
   "execution_count": null,
   "id": "da3af6e1",
   "metadata": {},
   "outputs": [],
   "source": [
    "df_gm_var = cal_income.income_variance_gm(df_gm_mean, df_pow_mnpp_mean)\n",
    "display(df_gm_var.head(15))"
   ]
  },
  {
   "cell_type": "markdown",
   "id": "aba109cb",
   "metadata": {},
   "source": [
    "W powiatach, w których jest małe zróżnicowanie dochodu pomiędzy gminami średnia dochodu w gminach jest bliska dochodowi w powiecie. W powiatach, w których jest duże zróżnicowanie dochodu pomiędzy gminami obserwuję, że średni dochód w powiecie różni się od średniej ze średnich dochodów w gminach."
   ]
  },
  {
   "cell_type": "code",
   "execution_count": null,
   "id": "d4dc609b",
   "metadata": {},
   "outputs": [],
   "source": [
    "%%time\n",
    "df_gm_pow_mnpp = pd.concat([df_pow_mnpp_mean, df_gm_mean])\n",
    "df_pow_var = cal_income.income_variance_pow(df_gm_pow_mnpp, df_woj_mean)\n",
    "display(df_pow_var)"
   ]
  },
  {
   "cell_type": "markdown",
   "id": "d2363fa7",
   "metadata": {},
   "source": [
    "W przypadku województwa te różnice wyrównują się. Mimo wysokich zróżnicowań pomiędzy dochodami podległych jednostek, średnia z tych dochodów w większości przypadków jest zbliżona do dochodu w danym województwie."
   ]
  },
  {
   "cell_type": "code",
   "execution_count": null,
   "id": "7b17c9b2",
   "metadata": {},
   "outputs": [],
   "source": [
    "%%time\n",
    "df = [df_gm, df_pow, df_mnpp, df_metrop, df_woj]\n",
    "df_all_income = pd.concat(df)"
   ]
  },
  {
   "cell_type": "code",
   "execution_count": null,
   "id": "0c675233",
   "metadata": {},
   "outputs": [],
   "source": [
    "%%time\n",
    "with pd.ExcelWriter(config[\"data\"][\"results\"]) as writer:\n",
    "    df_all_income.to_excel(writer, sheet_name='doch-jst')\n",
    "    df_gm_mean.to_excel(writer, sheet_name='gm-srednie-doch')\n",
    "    df_pow_mnpp_mean.to_excel(writer, sheet_name='pow-mnpp-srednie-doch')\n",
    "    df_woj_mean.to_excel(writer, sheet_name='woj-srednie-doch')\n",
    "    df_gm_var.to_excel(writer, sheet_name='pow-stat')\n",
    "    df_pow_var.to_excel(writer, sheet_name='woj-stat')"
   ]
  },
  {
   "cell_type": "markdown",
   "id": "ff259e93",
   "metadata": {},
   "source": [
    "Wyniki zapisuję w arkuszach Excel w folderze “results”. Ta operacja zajmuje 2.06 s."
   ]
  },
  {
   "cell_type": "markdown",
   "id": "b98c96ed",
   "metadata": {},
   "source": [
    "## Profilowanie\n",
    "\n",
    "Badam funkcję w skrypcie, której wykonanie zajmuje najwięcej czasu."
   ]
  },
  {
   "cell_type": "code",
   "execution_count": null,
   "id": "d5dbb9e1",
   "metadata": {},
   "outputs": [],
   "source": [
    "%lprun -f cal_income.income_comparison cal_income.income_comparison(config[\"data\"][\"y1_f1\"], config[\"data\"][\"y2_f1\"])"
   ]
  },
  {
   "cell_type": "code",
   "execution_count": null,
   "id": "498d6d70",
   "metadata": {},
   "outputs": [],
   "source": [
    "%lprun -f cal_income.income_jst cal_income.income_jst(config[\"data\"][\"y1_f1\"])"
   ]
  },
  {
   "cell_type": "code",
   "execution_count": null,
   "id": "a412ed74",
   "metadata": {},
   "outputs": [],
   "source": [
    "%lprun -f cal_income.load cal_income.load(config[\"data\"][\"y1_f1\"])"
   ]
  },
  {
   "cell_type": "markdown",
   "id": "aae61613",
   "metadata": {},
   "source": [
    "Wynik profilowania wykazuje, iż najwięcej czasu funkcja poświęca pobraniu danych z pliku."
   ]
  }
 ],
 "metadata": {
  "kernelspec": {
   "display_name": "Python 3 (ipykernel)",
   "language": "python",
   "name": "python3"
  },
  "language_info": {
   "codemirror_mode": {
    "name": "ipython",
    "version": 3
   },
   "file_extension": ".py",
   "mimetype": "text/x-python",
   "name": "python",
   "nbconvert_exporter": "python",
   "pygments_lexer": "ipython3",
   "version": "3.10.0"
  }
 },
 "nbformat": 4,
 "nbformat_minor": 5
}
